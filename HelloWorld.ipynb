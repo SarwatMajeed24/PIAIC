{
  "nbformat": 4,
  "nbformat_minor": 0,
  "metadata": {
    "colab": {
      "provenance": [],
      "authorship_tag": "ABX9TyODvkslOgdP7Zp4a8a0HIm6",
      "include_colab_link": true
    },
    "kernelspec": {
      "name": "python3",
      "display_name": "Python 3"
    },
    "language_info": {
      "name": "python"
    }
  },
  "cells": [
    {
      "cell_type": "markdown",
      "metadata": {
        "id": "view-in-github",
        "colab_type": "text"
      },
      "source": [
        "<a href=\"https://colab.research.google.com/github/SarwatMajeed24/PIAIC/blob/main/HelloWorld.ipynb\" target=\"_parent\"><img src=\"https://colab.research.google.com/assets/colab-badge.svg\" alt=\"Open In Colab\"/></a>"
      ]
    },
    {
      "cell_type": "code",
      "execution_count": 3,
      "metadata": {
        "colab": {
          "base_uri": "https://localhost:8080/"
        },
        "id": "jxmg_QljsJmA",
        "outputId": "68f220e8-e1df-4e66-bf79-fa1f689309d9"
      },
      "outputs": [
        {
          "output_type": "stream",
          "name": "stdout",
          "text": [
            "Hello World!\n"
          ]
        }
      ],
      "source": [
        "# prompt: write a hello world program\n",
        "\n",
        "print('Hello World!')\n"
      ]
    },
    {
      "cell_type": "code",
      "source": [
        "# prompt: my name zia please write hello world code which says hello to me\n",
        "\n",
        "print('Hello zia!')\n"
      ],
      "metadata": {
        "colab": {
          "base_uri": "https://localhost:8080/"
        },
        "id": "qlrF5uoOvEG9",
        "outputId": "cd8390fe-5ae7-4c2c-b8ca-e897f9b664f3"
      },
      "execution_count": 5,
      "outputs": [
        {
          "output_type": "stream",
          "name": "stdout",
          "text": [
            "Hello zia!\n"
          ]
        }
      ]
    },
    {
      "cell_type": "code",
      "source": [
        "# prompt: print hello sir qasim\n",
        "\n",
        "print('Hello sir qasim')\n"
      ],
      "metadata": {
        "colab": {
          "base_uri": "https://localhost:8080/"
        },
        "id": "nkygKJ7UzQZ5",
        "outputId": "79f08818-903a-44fc-c617-9a9459402b39"
      },
      "execution_count": 7,
      "outputs": [
        {
          "output_type": "stream",
          "name": "stdout",
          "text": [
            "Hello sir qasim\n"
          ]
        }
      ]
    },
    {
      "cell_type": "code",
      "source": [
        "# prompt: say hello to my mother\n",
        "\n",
        "print('Hello Mom!')\n"
      ],
      "metadata": {
        "colab": {
          "base_uri": "https://localhost:8080/"
        },
        "id": "aEFCjv1u0fYY",
        "outputId": "fd3220c8-894d-47cc-ed34-fac5ea76154d"
      },
      "execution_count": 9,
      "outputs": [
        {
          "output_type": "stream",
          "name": "stdout",
          "text": [
            "Hello Mom!\n"
          ]
        }
      ]
    },
    {
      "cell_type": "code",
      "source": [
        "# prompt: write a hello world comment in the code\n",
        "\n",
        "# Hello world comment\n"
      ],
      "metadata": {
        "id": "LMgjwzDN0n0w"
      },
      "execution_count": 12,
      "outputs": []
    },
    {
      "cell_type": "code",
      "source": [
        "# prompt: write a Hello World program comment in the code\n",
        "\n",
        "# Hello World program comment\n"
      ],
      "metadata": {
        "id": "NBkybpht1blc"
      },
      "execution_count": 14,
      "outputs": []
    },
    {
      "cell_type": "code",
      "source": [
        "print (\"hi say)\n"
      ],
      "metadata": {
        "colab": {
          "base_uri": "https://localhost:8080/",
          "height": 106
        },
        "id": "aVxGdIt41xo8",
        "outputId": "f1a8ac1d-66fe-4729-f898-8eb90a73cb54"
      },
      "execution_count": 16,
      "outputs": [
        {
          "output_type": "error",
          "ename": "SyntaxError",
          "evalue": "unterminated string literal (detected at line 1) (<ipython-input-16-d2d6401d10f7>, line 1)",
          "traceback": [
            "\u001b[0;36m  File \u001b[0;32m\"<ipython-input-16-d2d6401d10f7>\"\u001b[0;36m, line \u001b[0;32m1\u001b[0m\n\u001b[0;31m    print (\"hi say)\u001b[0m\n\u001b[0m           ^\u001b[0m\n\u001b[0;31mSyntaxError\u001b[0m\u001b[0;31m:\u001b[0m unterminated string literal (detected at line 1)\n"
          ]
        }
      ]
    },
    {
      "cell_type": "code",
      "source": [
        "# prompt: please correct the errors in the previous cell\n",
        "\n",
        "print('Hello World!')\n",
        "print('Hello zia!')\n",
        "print('Hello sir qasim')\n",
        "print('Hello Mom!')\n",
        "# Hello world comment\n",
        "# Hello World program comment\n",
        "print (\"hi say\")\n"
      ],
      "metadata": {
        "colab": {
          "base_uri": "https://localhost:8080/"
        },
        "id": "RSb-VNjk2I8x",
        "outputId": "19062e66-490d-4231-f50e-40a12e7baab6"
      },
      "execution_count": 17,
      "outputs": [
        {
          "output_type": "stream",
          "name": "stdout",
          "text": [
            "Hello World!\n",
            "Hello zia!\n",
            "Hello sir qasim\n",
            "Hello Mom!\n",
            "hi say\n"
          ]
        }
      ]
    },
    {
      "cell_type": "code",
      "source": [
        "write a hello world program\n"
      ],
      "metadata": {
        "colab": {
          "base_uri": "https://localhost:8080/",
          "height": 106
        },
        "id": "zIEO5ybD2hsd",
        "outputId": "0e73c334-d48e-4966-a6d5-2952c90b02f9"
      },
      "execution_count": 19,
      "outputs": [
        {
          "output_type": "error",
          "ename": "SyntaxError",
          "evalue": "invalid syntax (<ipython-input-19-8a11745c8d14>, line 1)",
          "traceback": [
            "\u001b[0;36m  File \u001b[0;32m\"<ipython-input-19-8a11745c8d14>\"\u001b[0;36m, line \u001b[0;32m1\u001b[0m\n\u001b[0;31m    write a hello world program\u001b[0m\n\u001b[0m          ^\u001b[0m\n\u001b[0;31mSyntaxError\u001b[0m\u001b[0;31m:\u001b[0m invalid syntax\n"
          ]
        }
      ]
    },
    {
      "cell_type": "code",
      "source": [
        "# prompt: write a hello world program\n",
        "\n",
        "print(\"Hello, World!\")\n"
      ],
      "metadata": {
        "colab": {
          "base_uri": "https://localhost:8080/"
        },
        "id": "zoItZkIt2m-u",
        "outputId": "3ddf8f2d-9cf0-4491-a02d-0f198d866fc7"
      },
      "execution_count": 21,
      "outputs": [
        {
          "output_type": "stream",
          "name": "stdout",
          "text": [
            "Hello, World!\n"
          ]
        }
      ]
    },
    {
      "cell_type": "code",
      "source": [
        "# prompt: write a code that display my favorite color\n",
        "\n",
        "my_fav_color = \"blue\" # Replace with your favorite color\n",
        "print(\"My favorite color is:\", my_fav_color)\n"
      ],
      "metadata": {
        "colab": {
          "base_uri": "https://localhost:8080/"
        },
        "id": "QJHlLORk216j",
        "outputId": "332b7cde-55a0-4648-ca8c-946dedb8d411"
      },
      "execution_count": 23,
      "outputs": [
        {
          "output_type": "stream",
          "name": "stdout",
          "text": [
            "My favorite color is: blue\n"
          ]
        }
      ]
    },
    {
      "cell_type": "code",
      "source": [
        "# prompt: write a code about favorite color\n",
        "\n",
        "favorite_color = input(\"What is your favorite color? \")\n",
        "print(\"Your favorite color is\", favorite_color)\n"
      ],
      "metadata": {
        "id": "cZv6U0SK3Owh"
      },
      "execution_count": null,
      "outputs": []
    },
    {
      "cell_type": "code",
      "source": [
        "# prompt: write a code that answer the question \"how are you feeling today?\"\n",
        "\n",
        "feeling = input(\"How are you feeling today? \")\n",
        "print(\"You are feeling\", feeling, \"today.\")\n"
      ],
      "metadata": {
        "id": "2tTCYpEh3lt4"
      },
      "execution_count": null,
      "outputs": []
    },
    {
      "cell_type": "code",
      "source": [
        "# prompt: write a code that answer the question \"how are you feeling today?\"\n",
        "\n",
        "feeling = input(\"How are you feeling today? \")\n",
        "print(\"You are feeling\", feeling, \"today.\")\n"
      ],
      "metadata": {
        "id": "2zg1c7VB6H3a"
      },
      "execution_count": null,
      "outputs": []
    }
  ]
}